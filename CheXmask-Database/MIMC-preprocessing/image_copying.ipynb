{
 "cells": [
  {
   "cell_type": "code",
   "execution_count": 1,
   "id": "c13c1b15-c778-40ff-81fe-7991b4584cdd",
   "metadata": {},
   "outputs": [
    {
     "name": "stdout",
     "output_type": "stream",
     "text": [
      "Copied 253 images into processed_images/\n"
     ]
    }
   ],
   "source": [
    "import os\n",
    "import shutil\n",
    "import pandas as pd\n",
    "\n",
    "# 1) Read the list of dicom_ids\n",
    "df = pd.read_csv(\"dicom_list.csv\")   # or wherever your CSV lives\n",
    "ids = set(df[\"dicom_id\"].astype(str))\n",
    "\n",
    "# 2) Build a dicom_id → full .jpg path index\n",
    "image_index = {}\n",
    "for root, _, files in os.walk(\"../MIMIC_CXR\"):\n",
    "    for fname in files:\n",
    "        if fname.lower().endswith(\".jpg\"):\n",
    "            dicom_key = os.path.splitext(fname)[0]\n",
    "            image_index[dicom_key] = os.path.join(root, fname)\n",
    "\n",
    "# 3) Create output directory\n",
    "OUT_DIR = \"processed_images\"\n",
    "os.makedirs(OUT_DIR, exist_ok=True)\n",
    "\n",
    "# 4) Copy matching files\n",
    "missing = []\n",
    "for dicom_id in ids:\n",
    "    src = image_index.get(dicom_id)\n",
    "    if src and os.path.exists(src):\n",
    "        dst = os.path.join(OUT_DIR, f\"{dicom_id}.jpg\")\n",
    "        shutil.copy(src, dst)\n",
    "    else:\n",
    "        missing.append(dicom_id)\n",
    "\n",
    "print(f\"Copied {len(ids)-len(missing)} images into {OUT_DIR}/\")\n",
    "if missing:\n",
    "    print(f\"Warning: {len(missing)} IDs not found:\", missing)\n"
   ]
  }
 ],
 "metadata": {
  "kernelspec": {
   "display_name": "Python 3 (ipykernel)",
   "language": "python",
   "name": "python3"
  },
  "language_info": {
   "codemirror_mode": {
    "name": "ipython",
    "version": 3
   },
   "file_extension": ".py",
   "mimetype": "text/x-python",
   "name": "python",
   "nbconvert_exporter": "python",
   "pygments_lexer": "ipython3",
   "version": "3.11.7"
  }
 },
 "nbformat": 4,
 "nbformat_minor": 5
}
